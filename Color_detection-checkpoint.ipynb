{
 "cells": [
  {
   "cell_type": "code",
   "execution_count": 1,
   "id": "084c315a-edad-4e7f-a8c4-f17b99152fa1",
   "metadata": {},
   "outputs": [
    {
     "ename": "KeyboardInterrupt",
     "evalue": "",
     "output_type": "error",
     "traceback": [
      "\u001b[1;31m---------------------------------------------------------------------------\u001b[0m",
      "\u001b[1;31mKeyboardInterrupt\u001b[0m                         Traceback (most recent call last)",
      "Cell \u001b[1;32mIn[1], line 36\u001b[0m\n\u001b[0;32m     33\u001b[0m upper_range \u001b[38;5;241m=\u001b[39m np\u001b[38;5;241m.\u001b[39marray(ranges[\u001b[38;5;241m1\u001b[39m])\n\u001b[0;32m     34\u001b[0m mask \u001b[38;5;241m=\u001b[39m cv2\u001b[38;5;241m.\u001b[39minRange(hsv, lower_range, upper_range)\n\u001b[1;32m---> 36\u001b[0m contours, _ \u001b[38;5;241m=\u001b[39m \u001b[43mcv2\u001b[49m\u001b[38;5;241;43m.\u001b[39;49m\u001b[43mfindContours\u001b[49m\u001b[43m(\u001b[49m\u001b[43mmask\u001b[49m\u001b[43m,\u001b[49m\u001b[43m \u001b[49m\u001b[43mcv2\u001b[49m\u001b[38;5;241;43m.\u001b[39;49m\u001b[43mRETR_TREE\u001b[49m\u001b[43m,\u001b[49m\u001b[43m \u001b[49m\u001b[43mcv2\u001b[49m\u001b[38;5;241;43m.\u001b[39;49m\u001b[43mCHAIN_APPROX_SIMPLE\u001b[49m\u001b[43m)\u001b[49m\n\u001b[0;32m     38\u001b[0m \u001b[38;5;28;01mfor\u001b[39;00m cnt \u001b[38;5;129;01min\u001b[39;00m contours:\n\u001b[0;32m     39\u001b[0m     \u001b[38;5;28;01mif\u001b[39;00m cv2\u001b[38;5;241m.\u001b[39mcontourArea(cnt) \u001b[38;5;241m>\u001b[39m \u001b[38;5;241m500\u001b[39m:\n",
      "\u001b[1;31mKeyboardInterrupt\u001b[0m: "
     ]
    }
   ],
   "source": [
    "import cv2\n",
    "import numpy as np\n",
    "\n",
    "colors = {\n",
    "    \"green\": (0, 255, 0),\n",
    "    \"blue\": (255, 0, 0),\n",
    "    \"red\": (0, 0, 255),\n",
    "    \"yellow\": (0, 255, 255),\n",
    "    \"orange\": (0, 165, 255),\n",
    "    \"purple\": (128, 0, 128),\n",
    "}\n",
    "\n",
    "color_ranges = {\n",
    "    \"green\": [(40, 100, 100), (80, 255, 255)],\n",
    "    \"blue\": [(100, 100, 100), (140, 255, 255)],\n",
    "    \"red\": [(0, 100, 100), (10, 255, 255)],\n",
    "    \"yellow\": [(20, 100, 100), (30, 255, 255)],\n",
    "    \"orange\": [(10, 100, 100), (20, 255, 255)],\n",
    "    \"purple\": [(130, 100, 100), (150, 255, 255)],\n",
    "}\n",
    "\n",
    "\n",
    "cap = cv2.VideoCapture(0)\n",
    "while True:\n",
    "    ret, frame = cap.read()\n",
    "    if not ret:\n",
    "        break\n",
    "\n",
    "    hsv = cv2.cvtColor(frame, cv2.COLOR_BGR2HSV)\n",
    "\n",
    "    for color, ranges in color_ranges.items():\n",
    "        lower_range = np.array(ranges[0])\n",
    "        upper_range = np.array(ranges[1])\n",
    "        mask = cv2.inRange(hsv, lower_range, upper_range)\n",
    "\n",
    "        contours, _ = cv2.findContours(mask, cv2.RETR_TREE, cv2.CHAIN_APPROX_SIMPLE)\n",
    "\n",
    "        for cnt in contours:\n",
    "            if cv2.contourArea(cnt) > 500:\n",
    "                x, y, w, h = cv2.boundingRect(cnt)\n",
    "                cv2.rectangle(frame, (x, y), (x + w, y + h), colors[color], 2)\n",
    "                cv2.putText(frame, color, (x, y - 10), cv2.FONT_HERSHEY_SIMPLEX, 0.5, colors[color], 2)\n",
    "\n",
    "    # Display the frame with rectangles and text\n",
    "    cv2.imshow('Frame', frame)\n",
    "\n",
    "    # Break the loop on 'q' key press\n",
    "    if cv2.waitKey(1) & 0xFF == ord('q'):\n",
    "        break\n",
    "\n",
    "# Clean up\n",
    "cap.release()\n",
    "cv2.destroyAllWindows()\n"
   ]
  },
  {
   "cell_type": "code",
   "execution_count": null,
   "id": "523fcdb0-e4ff-4f28-8acd-0c3decd44fc3",
   "metadata": {},
   "outputs": [],
   "source": []
  }
 ],
 "metadata": {
  "kernelspec": {
   "display_name": "Python 3 (ipykernel)",
   "language": "python",
   "name": "python3"
  },
  "language_info": {
   "codemirror_mode": {
    "name": "ipython",
    "version": 3
   },
   "file_extension": ".py",
   "mimetype": "text/x-python",
   "name": "python",
   "nbconvert_exporter": "python",
   "pygments_lexer": "ipython3",
   "version": "3.12.4"
  }
 },
 "nbformat": 4,
 "nbformat_minor": 5
}
